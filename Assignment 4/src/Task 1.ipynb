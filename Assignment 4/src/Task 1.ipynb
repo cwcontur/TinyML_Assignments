{
 "cells": [
  {
   "cell_type": "markdown",
   "id": "5baf97e6",
   "metadata": {},
   "source": [
    "Connor Contursi - Task 1"
   ]
  },
  {
   "cell_type": "markdown",
   "id": "ac6028c1",
   "metadata": {},
   "source": [
    "# Data Processing"
   ]
  },
  {
   "cell_type": "code",
   "execution_count": 70,
   "id": "ad7d424d",
   "metadata": {},
   "outputs": [],
   "source": [
    "# Imports\n",
    "import numpy as np\n",
    "import pandas as pd\n",
    "import os\n",
    "\n",
    "# Module imports\n",
    "from skimage import io\n",
    "from sklearn import metrics\n",
    "from sklearn import preprocessing\n",
    "from matplotlib import pyplot as plt\n",
    "from sklearn.metrics import confusion_matrix\n",
    "from sklearn.tree import DecisionTreeClassifier\n",
    "from sklearn.metrics import plot_confusion_matrix\n",
    "from sklearn.ensemble import RandomForestClassifier\n",
    "from sklearn.linear_model import LogisticRegression\n",
    "from sklearn.model_selection import train_test_split\n",
    "#---------------------------------------------------\n",
    "\n",
    "# Accesses data\n",
    "folder = 'C:/Users/indie/OneDrive/Desktop/images/Connor Contursi - 2022-02-10 23.42.14 - Connor_Contursi' # provide relative path to folder\n",
    "\n",
    "# Gets images\n",
    "images = [os.path.join(root, filename)\n",
    "          for root, dirs, files in os.walk(folder)\n",
    "          for filename in files\n",
    "          if filename.lower().endswith('.jpg')]\n",
    "\n",
    "#Combines images into a list\n",
    "ic = []\n",
    "for img in images:\n",
    "    ic.append(io.imread(img))\n",
    "\n",
    "# Coverts list into array and then reshapes it\n",
    "a, b, c = ic[0].shape\n",
    "ica = np.array(ic)\n",
    "ica = ica.flatten().reshape(len(ic), a * b * c)\n",
    "\n",
    "# Creates Y labels for different classes of images\n",
    "y = np.zeros(len(ic))\n",
    "for a in range (int((1/3)*len(ic)), int((2/3)*len(ic))):\n",
    "    y[a] = 1\n",
    "    \n",
    "for b in range (int((2/3)*len(ic)), len(ic)):\n",
    "    y[b] = 2"
   ]
  },
  {
   "cell_type": "markdown",
   "id": "0fbd38b7",
   "metadata": {},
   "source": [
    "### Logistic Regression Model & Results"
   ]
  },
  {
   "cell_type": "code",
   "execution_count": 71,
   "id": "c5d188f3",
   "metadata": {},
   "outputs": [
    {
     "name": "stdout",
     "output_type": "stream",
     "text": [
      "              precision    recall  f1-score   support\n",
      "\n",
      "         0.0       0.56      0.42      0.48        12\n",
      "         1.0       0.57      0.44      0.50         9\n",
      "         2.0       0.57      0.89      0.70         9\n",
      "\n",
      "    accuracy                           0.57        30\n",
      "   macro avg       0.57      0.58      0.56        30\n",
      "weighted avg       0.57      0.57      0.55        30\n",
      "\n"
     ]
    },
    {
     "data": {
      "image/png": "[encoded data removed]",
      "text/plain": [
       "<Figure size 432x288 with 2 Axes>"
      ]
     },
     "metadata": {
      "needs_background": "light"
     },
     "output_type": "display_data"
    }
   ],
   "source": [
    "#Train test split of 80-20\n",
    "x_train, x_test, y_train, y_test = train_test_split(ica, y, test_size = 0.20)\n",
    "\n",
    "# creates logistic regression classifier; fits data with trained sets; generates predictions from test split\n",
    "model = LogisticRegression(max_iter = 10000)\n",
    "model.fit(x_train, y_train)\n",
    "y_prediction = model.predict(x_test)\n",
    "\n",
    "# generates confusion matrix and plots data\n",
    "matrix = confusion_matrix(y_test, y_prediction)\n",
    "plot_confusion_matrix(model, x_test, y_test)\n",
    "\n",
    "# prints precision, recall, and f1 score\n",
    "print(metrics.classification_report(y_test, y_prediction))"
   ]
  },
  {
   "cell_type": "markdown",
   "id": "51684aed",
   "metadata": {},
   "source": [
    "### Decision Trees Model & Results\n"
   ]
  },
  {
   "cell_type": "code",
   "execution_count": 61,
   "id": "04f40279",
   "metadata": {},
   "outputs": [
    {
     "name": "stdout",
     "output_type": "stream",
     "text": [
      "              precision    recall  f1-score   support\n",
      "\n",
      "         0.0       0.50      0.56      0.53         9\n",
      "         1.0       0.00      0.00      0.00         9\n",
      "         2.0       0.47      0.58      0.52        12\n",
      "\n",
      "    accuracy                           0.40        30\n",
      "   macro avg       0.32      0.38      0.35        30\n",
      "weighted avg       0.34      0.40      0.37        30\n",
      "\n"
     ]
    },
    {
     "data": {
      "image/png": "[encoded data removed]",
      "text/plain": [
       "<Figure size 432x288 with 2 Axes>"
      ]
     },
     "metadata": {
      "needs_background": "light"
     },
     "output_type": "display_data"
    }
   ],
   "source": [
    "# Train test split of 80-20\n",
    "x_train, x_test, y_train, y_test = train_test_split(ica, y, test_size = 0.20)\n",
    "\n",
    "# creates decision tree classifier; fits data with trained sets; generates predictions from test split\n",
    "model = DecisionTreeClassifier(random_state = 0)\n",
    "model.fit(x_train, y_train)\n",
    "y_prediciton = model.predict(x_test)\n",
    "\n",
    "# generates confusion matrix and plots data\n",
    "matrix = confusion_matrix(y_test, y_prediction)\n",
    "plot_confusion_matrix(model, x_test, y_test)\n",
    "\n",
    "# prints precision, recall, and f1 score\n",
    "print(metrics.classification_report(y_test, y_prediction))"
   ]
  },
  {
   "cell_type": "markdown",
   "id": "3849d9ca",
   "metadata": {},
   "source": [
    "### Random Forests Model & Results"
   ]
  },
  {
   "cell_type": "code",
   "execution_count": 62,
   "id": "b3d83973",
   "metadata": {},
   "outputs": [
    {
     "name": "stdout",
     "output_type": "stream",
     "text": [
      "              precision    recall  f1-score   support\n",
      "\n",
      "         0.0       0.10      0.10      0.10        10\n",
      "         1.0       0.20      0.09      0.13        11\n",
      "         2.0       0.27      0.44      0.33         9\n",
      "\n",
      "    accuracy                           0.20        30\n",
      "   macro avg       0.19      0.21      0.19        30\n",
      "weighted avg       0.19      0.20      0.18        30\n",
      "\n"
     ]
    },
    {
     "data": {
      "image/png": "[encoded data removed]",
      "text/plain": [
       "<Figure size 432x288 with 2 Axes>"
      ]
     },
     "metadata": {
      "needs_background": "light"
     },
     "output_type": "display_data"
    }
   ],
   "source": [
    "# Train test split of 80-20\n",
    "x_train, x_test, y_train, y_test = train_test_split(ica, y, test_size = 0.20)\n",
    "\n",
    "# creates random forest classifier; fits data with trained sets; generates predictions from test split\n",
    "model = RandomForestClassifier(random_state = 0)\n",
    "model.fit(x_train, y_train)\n",
    "y_prediciton = model.predict(x_test)\n",
    "\n",
    "# generates confusion matrix and plots data\n",
    "matrix = confusion_matrix(y_test, y_prediction)\n",
    "plot_confusion_matrix(model, x_test, y_test)\n",
    "\n",
    "# prints precision, recall, and f1 score\n",
    "print(metrics.classification_report(y_test, y_prediction))"
   ]
  },
  {
   "cell_type": "markdown",
   "id": "2d202f69",
   "metadata": {},
   "source": [
    "From all of the models, we can see that the precision of the data varies quite a bit more than we'd like to see."
   ]
  }
 ],
 "metadata": {
  "kernelspec": {
   "display_name": "Python 3 (ipykernel)",
   "language": "python",
   "name": "python3"
  },
  "language_info": {
   "codemirror_mode": {
    "name": "ipython",
    "version": 3
   },
   "file_extension": ".py",
   "mimetype": "text/x-python",
   "name": "python",
   "nbconvert_exporter": "python",
   "pygments_lexer": "ipython3",
   "version": "3.9.7"
  }
 },
 "nbformat": 4,
 "nbformat_minor": 5
}
