{
 "cells": [
  {
   "cell_type": "code",
   "execution_count": 117,
   "id": "1b9009fa",
   "metadata": {},
   "outputs": [],
   "source": [
    "# Imports\n",
    "from skimage import io\n",
    "import numpy as np\n",
    "import pandas as pd\n",
    "import os\n",
    "import tensorflow as tf\n",
    "from tensorflow import keras\n",
    "from keras.models import Sequential\n",
    "from keras.layers import Dense\n",
    "from keras.preprocessing.image import ImageDataGenerator\n",
    "from sklearn.model_selection import train_test_split\n",
    "# Matplotlib is a graphing library\n",
    "import matplotlib.pyplot as plt\n",
    "# Math is Python's math library\n",
    "import math\n",
    "from tensorflow.keras import layers\n",
    "from tensorflow.keras.optimizers import Adam\n",
    "\n",
    "#---------------------------------------------------\n",
    "\n",
    "# Accesses data\n",
    "folder = 'C:/Users/indie/OneDrive/Desktop/images/Connor Contursi - 2022-02-10 23.42.14 - Connor_Contursi' # provide relative path to folder\n",
    "\n",
    "# Gets images\n",
    "images = [os.path.join(root, filename)\n",
    "          for root, dirs, files in os.walk(folder)\n",
    "          for filename in files\n",
    "          if filename.lower().endswith('.jpg')]\n",
    "\n",
    "#Combines images into a list\n",
    "ic = []\n",
    "for img in images:\n",
    "    ic.append(io.imread(img))\n",
    "\n",
    "# Coverts list into array and then reshapes it\n",
    "a, b, c = ic[0].shape\n",
    "ica = np.array(ic)\n",
    "ica = ica.flatten().reshape(len(ic), a * b * c)\n",
    "#print(ica.shape)\n",
    "\n",
    "# Creates Y labels for different classes of images\n",
    "y = np.zeros(len(ic))\n",
    "for a in range (int((1/3)*len(ic)), int((2/3)*len(ic))):\n",
    "    y[a] = 1\n",
    "    \n",
    "for b in range (int((2/3)*len(ic)), len(ic)):\n",
    "    y[b] = 2"
   ]
  },
  {
   "cell_type": "code",
   "execution_count": 123,
   "id": "37410643",
   "metadata": {},
   "outputs": [
    {
     "name": "stdout",
     "output_type": "stream",
     "text": [
      "96/96 [==============================] - 7s 64ms/step - loss: 1.1921e-07 - val_loss: 1.2318e-07\n",
      "Model: \"sequential_66\"\n",
      "_________________________________________________________________\n",
      "Layer (type)                 Output Shape              Param #   \n",
      "=================================================================\n",
      "dense_126 (Dense)            (1, 128)                  29491328  \n",
      "_________________________________________________________________\n",
      "dense_127 (Dense)            (1, 1)                    129       \n",
      "=================================================================\n",
      "Total params: 29,491,457\n",
      "Trainable params: 29,491,457\n",
      "Non-trainable params: 0\n",
      "_________________________________________________________________\n"
     ]
    }
   ],
   "source": [
    "adam = Adam()\n",
    "x_train, x_test, y_train, y_test = train_test_split(ica, y, test_size = 0.2)\n",
    "x_train, x_val, y_train, y_val = train_test_split(x_train, y_train, test_size = 0.2)\n",
    "\n",
    "model = tf.keras.Sequential()\n",
    "\n",
    "model.add(keras.layers.Dense(128))\n",
    "model.add(keras.layers.Dense(1))\n",
    "\n",
    "model.compile(optimizer=adam, loss='categorical_crossentropy')\n",
    "\n",
    "history_1 = model.fit(x_train, y_train, epochs=1, batch_size = 1, validation_data=(x_test, y_test))\n",
    "model.summary()\n",
    "\n",
    "train_loss = history_1.history['loss']\n",
    "val_loss = history_1.history['val_loss']\n",
    "model.summary()\n",
    "epochs = range(1, len(train_loss) + 1)\n",
    "\n",
    "plt.plot(epochs, train_loss, 'g.', label='Training loss')\n",
    "plt.plot(epochs, val_loss, 'b', label='Validation loss')\n",
    "plt.title('Training and validation loss')\n",
    "plt.xlabel('Epochs')\n",
    "plt.ylabel('Loss')\n",
    "plt.legend()\n",
    "plt.show()"
   ]
  }
 ],
 "metadata": {
  "kernelspec": {
   "display_name": "Python 3 (ipykernel)",
   "language": "python",
   "name": "python3"
  },
  "language_info": {
   "codemirror_mode": {
    "name": "ipython",
    "version": 3
   },
   "file_extension": ".py",
   "mimetype": "text/x-python",
   "name": "python",
   "nbconvert_exporter": "python",
   "pygments_lexer": "ipython3",
   "version": "3.9.7"
  }
 },
 "nbformat": 4,
 "nbformat_minor": 5
}
