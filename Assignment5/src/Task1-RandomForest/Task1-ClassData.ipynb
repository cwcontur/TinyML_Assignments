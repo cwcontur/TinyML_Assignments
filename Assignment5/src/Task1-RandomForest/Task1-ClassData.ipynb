{
 "cells": [
  {
   "cell_type": "markdown",
   "id": "904ecee4",
   "metadata": {},
   "source": [
    "### Connor Contursi - [Class Data]"
   ]
  },
  {
   "cell_type": "markdown",
   "id": "d007d6a1",
   "metadata": {},
   "source": [
    "# Data Processing"
   ]
  },
  {
   "cell_type": "code",
   "execution_count": 2,
   "id": "c8891211",
   "metadata": {},
   "outputs": [
    {
     "name": "stderr",
     "output_type": "stream",
     "text": [
      "100%|██████████| 40/40 [00:01<00:00, 20.02it/s]\n"
     ]
    }
   ],
   "source": [
    "# module imports\n",
    "import os\n",
    "import numpy as np\n",
    "import pandas as pd\n",
    "from tqdm import tqdm\n",
    "\n",
    "# Sklearn module imports\n",
    "from sklearn import metrics\n",
    "import matplotlib.pyplot as plt\n",
    "from sklearn.metrics import confusion_matrix\n",
    "from sklearn.metrics import plot_confusion_matrix\n",
    "from sklearn.ensemble import RandomForestClassifier\n",
    "from sklearn.model_selection import train_test_split\n",
    "\n",
    "path = \"C:/Users/indie/Assignment 5/Class\"\n",
    "\n",
    "# ----------------------------------------------------------------------------------\n",
    "\n",
    "# Initializes individual data sets\n",
    "class_wave = pd.DataFrame()\n",
    "class_fistbump = pd.DataFrame()\n",
    "wave_files = 0\n",
    "fist_files = 0\n",
    "\n",
    "# Strings used to open the correct files\n",
    "wave_match = \"wave\"\n",
    "fist_match = \"fist\"\n",
    "\n",
    "# Counts all the files in a given directory.\n",
    "initial_count = len(\n",
    "    [f for f in os.listdir(path) if os.path.isfile(os.path.join(path, f))]\n",
    ")\n",
    "dirre = os.listdir(path)\n",
    "file_count = 2 * len(dirre)\n",
    "\n",
    "# Iterates through the directory and compiles data for waves and fist bumps.\n",
    "# Also displays a progress bar at the bottom which keeps track of work done.\n",
    "with tqdm(total=file_count) as pbar:\n",
    "    for subdir, dirs, files in os.walk(path):\n",
    "        for file in files:\n",
    "            os.chdir(subdir)\n",
    "\n",
    "            # Checks for wave file and then pulls data\n",
    "            if wave_match in file.lower():\n",
    "                pbar.update(1)  # Increment the progress bar\n",
    "                wave_array = np.genfromtxt(\n",
    "                    file, delimiter=\",\", dtype=str, usecols=range(6), skip_header=1\n",
    "                )\n",
    "                wave_array = wave_array.reshape(50, 119 * 6)\n",
    "                wave_data_array = pd.DataFrame(wave_array)\n",
    "                class_wave = pd.concat([class_wave, wave_data_array])\n",
    "                wave_files += 1\n",
    "\n",
    "            # Checks for fist bump file and then pulls data\n",
    "            if fist_match in file.lower():\n",
    "                pbar.update(1)  # Increment the progress bar\n",
    "                fist_array = np.genfromtxt(\n",
    "                    file, delimiter=\",\", dtype=str, usecols=range(6), skip_header=1\n",
    "                )\n",
    "                fist_array = fist_array.reshape(50, 119 * 6)\n",
    "                fist_data_array = pd.DataFrame(fist_array)\n",
    "                class_fistbump = pd.concat([class_fistbump, fist_data_array])\n",
    "                fist_files += 1\n",
    "\n",
    "pbar.close()\n",
    "\n",
    "# Combines all of class data for wave and fistbumps into single set\n",
    "class_data = pd.concat([class_wave, class_fistbump])\n",
    "x, unused_y = class_data.shape\n",
    "# ----------------------------------------------------------------------------------\n",
    "\n",
    "# Creates y labels\n",
    "y = np.zeros(x)\n",
    "\n",
    "for position in range(int(0.50 * x), x, 1):\n",
    "    y[position] = 1\n",
    "\n",
    "y = y.astype(np.int16)"
   ]
  },
  {
   "cell_type": "markdown",
   "id": "a4631746",
   "metadata": {},
   "source": [
    "## Random Forests Model & Results"
   ]
  },
  {
   "cell_type": "code",
   "execution_count": 3,
   "id": "3d763b1e",
   "metadata": {},
   "outputs": [
    {
     "name": "stdout",
     "output_type": "stream",
     "text": [
      "              precision    recall  f1-score   support\n",
      "\n",
      "           0       1.00      0.93      0.97       254\n",
      "           1       0.94      1.00      0.97       246\n",
      "\n",
      "    accuracy                           0.97       500\n",
      "   macro avg       0.97      0.97      0.97       500\n",
      "weighted avg       0.97      0.97      0.97       500\n",
      "\n"
     ]
    },
    {
     "data": {
      "image/png": "[encoded data removed]",
      "text/plain": [
       "<Figure size 432x288 with 2 Axes>"
      ]
     },
     "metadata": {
      "needs_background": "light"
     },
     "output_type": "display_data"
    }
   ],
   "source": [
    "# ----------------------------------------------------------------------------------\n",
    "x_train, x_test, y_train, y_test = train_test_split(class_data, y, random_state=0)\n",
    "\n",
    "# creates logistic regression classifier; fits data with trained sets; generates predictions from test split\n",
    "model = RandomForestClassifier(max_depth=3)\n",
    "model.fit(x_train, y_train)\n",
    "y_prediction = model.predict(x_test)\n",
    "\n",
    "# generates confusion matrix and plots data\n",
    "matrix = confusion_matrix(y_test, y_prediction)\n",
    "plot_confusion_matrix(model, x_test, y_test)\n",
    "\n",
    "# prints precision, recall, and f1 score\n",
    "print(metrics.classification_report(y_test, y_prediction))\n",
    "plt.show()\n",
    "# ----------------------------------------------------------------------------------"
   ]
  },
  {
   "cell_type": "markdown",
   "id": "bfd7edfa",
   "metadata": {},
   "source": [
    "### Deployment"
   ]
  },
  {
   "cell_type": "code",
   "execution_count": 15,
   "id": "61ab2928",
   "metadata": {},
   "outputs": [
    {
     "name": "stdout",
     "output_type": "stream",
     "text": [
      "File size: 153.4 kb\n"
     ]
    }
   ],
   "source": [
    "# ----------------------------------------------------------------------------------\n",
    "from micromlgen import port\n",
    "\n",
    "# File path + name\n",
    "path = \"C:/Users/indie/Assignment 5/model\"\n",
    "file = \"Classifier\"\n",
    "\n",
    "# Checks if the path already exists and if it doesn't, it's created\n",
    "if not os.path.exists(path):\n",
    "    os.makedirs(path)\n",
    "\n",
    "# Removes Classifier.h if it was already created so new one can be made\n",
    "if os.path.exists(\"C:/Users/indie/Assignment 5/model/Classifier.h\"):\n",
    "    os.remove(\"C:/Users/indie/Assignment 5/model/Classifier.h\")\n",
    "\n",
    "# Creates file\n",
    "filename = file + \".h\"\n",
    "with open(\"C:/Users/indie/Assignment 5/model/Classifier.h\", \"w\") as file:\n",
    "    file.write(port(model, classname=\"Classifier\"))\n",
    "\n",
    "# Checks file size, converts it to kb, and prints output\n",
    "file_size = os.path.getsize(\"C:/Users/indie/Assignment 5/model/Classifier.h\")\n",
    "kb = round(file_size / 1024, 1)\n",
    "print(\"File size:\", kb, \"kb\")\n",
    "# ----------------------------------------------------------------------------------"
   ]
  }
 ],
 "metadata": {
  "kernelspec": {
   "display_name": "Python 3 (ipykernel)",
   "language": "python",
   "name": "python3"
  },
  "language_info": {
   "codemirror_mode": {
    "name": "ipython",
    "version": 3
   },
   "file_extension": ".py",
   "mimetype": "text/x-python",
   "name": "python",
   "nbconvert_exporter": "python",
   "pygments_lexer": "ipython3",
   "version": "3.9.7"
  }
 },
 "nbformat": 4,
 "nbformat_minor": 5
}
