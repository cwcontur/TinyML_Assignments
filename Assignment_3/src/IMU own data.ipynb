{
 "cells": [
  {
   "cell_type": "markdown",
   "metadata": {},
   "source": [
    "### Connor Contursi - Task 1"
   ]
  },
  {
   "cell_type": "markdown",
   "metadata": {},
   "source": [
    "# Data Processing"
   ]
  },
  {
   "cell_type": "code",
   "execution_count": 1,
   "metadata": {},
   "outputs": [],
   "source": [
    "# module imports\n",
    "import numpy as np\n",
    "import pandas as pd\n",
    "\n",
    "# Sklearn module imports\n",
    "from sklearn import metrics\n",
    "from sklearn.metrics import confusion_matrix\n",
    "from sklearn.tree import DecisionTreeClassifier\n",
    "from sklearn.metrics import plot_confusion_matrix\n",
    "from sklearn.ensemble import RandomForestClassifier\n",
    "from sklearn.linear_model import LogisticRegression\n",
    "from sklearn.model_selection import train_test_split\n",
    "#---------------------------------------------------\n",
    "\n",
    "# Imports wave data in proper format for sklearn\n",
    "wave_array = np.genfromtxt(\"wave_data.csv\", delimiter = \",\", dtype = str, usecols = range(6), skip_header = 1)\n",
    "wave_array = wave_array.reshape(50, 119 * 6)\n",
    "wave_data_array = pd.DataFrame(wave_array)\n",
    "\n",
    "# Imports fistbump data in proper format for sklearn\n",
    "fistbump_array = np.genfromtxt(\"fistbump_data.csv\", delimiter = \",\", dtype = str, usecols = range(6), skip_header = 1)\n",
    "fistbump_array = fistbump_array.reshape(50, 119 * 6)\n",
    "fistbump_data_array = pd.DataFrame(fistbump_array)\n",
    "\n",
    "# Combines wave and fistbump data into single set\n",
    "data = pd.concat([wave_data_array, fistbump_data_array])\n",
    "\n",
    "# Creates y labels of half 0's and half 1's\n",
    "y = np.zeros(100)\n",
    "for a in range (50, 100, 1):\n",
    "    y[a] = 1"
   ]
  },
  {
   "cell_type": "markdown",
   "metadata": {},
   "source": [
    "### Logistic Regression Model & Results"
   ]
  },
  {
   "cell_type": "code",
   "execution_count": 2,
   "metadata": {},
   "outputs": [
    {
     "name": "stdout",
     "output_type": "stream",
     "text": [
      "              precision    recall  f1-score   support\n",
      "\n",
      "         0.0       1.00      1.00      1.00        11\n",
      "         1.0       1.00      1.00      1.00         9\n",
      "\n",
      "    accuracy                           1.00        20\n",
      "   macro avg       1.00      1.00      1.00        20\n",
      "weighted avg       1.00      1.00      1.00        20\n",
      "\n"
     ]
    },
    {
     "data": {
      "image/png": "[encoded data removed]",
      "text/plain": [
       "<Figure size 432x288 with 2 Axes>"
      ]
     },
     "metadata": {
      "needs_background": "light"
     },
     "output_type": "display_data"
    }
   ],
   "source": [
    "# Train test split of 80-20\n",
    "x_train, x_test, y_train, y_test = train_test_split(data, y, test_size = 0.20)\n",
    "\n",
    "# creates logistic regression classifier; fits data with trained sets; generates predictions from test split\n",
    "model = LogisticRegression()\n",
    "model.fit(x_train, y_train)\n",
    "y_prediction = model.predict(x_test)\n",
    "\n",
    "# generates confusion matrix and plots data\n",
    "matrix = confusion_matrix(y_test, y_prediction)\n",
    "plot_confusion_matrix(model, x_test, y_test)\n",
    "\n",
    "# prints precision, recall, and f1 score\n",
    "print(metrics.classification_report(y_test, y_prediction))"
   ]
  },
  {
   "cell_type": "markdown",
   "metadata": {},
   "source": [
    "### Bias & Variance Characteristics\n",
    "Given the results of the waving and fistbump data sets, there seems to be overfitting occuring given the little bias shown. "
   ]
  },
  {
   "cell_type": "markdown",
   "metadata": {},
   "source": [
    "### Decision Trees Model & Results"
   ]
  },
  {
   "cell_type": "code",
   "execution_count": 3,
   "metadata": {},
   "outputs": [
    {
     "name": "stdout",
     "output_type": "stream",
     "text": [
      "              precision    recall  f1-score   support\n",
      "\n",
      "         0.0       0.45      0.50      0.48        10\n",
      "         1.0       0.44      0.40      0.42        10\n",
      "\n",
      "    accuracy                           0.45        20\n",
      "   macro avg       0.45      0.45      0.45        20\n",
      "weighted avg       0.45      0.45      0.45        20\n",
      "\n"
     ]
    },
    {
     "data": {
      "image/png": "[encoded data removed]",
      "text/plain": [
       "<Figure size 432x288 with 2 Axes>"
      ]
     },
     "metadata": {
      "needs_background": "light"
     },
     "output_type": "display_data"
    }
   ],
   "source": [
    "# Train test split of 80-20\n",
    "x_train, x_test, y_train, y_test = train_test_split(data, y, test_size = 0.20)\n",
    "\n",
    "# creates decision tree classifier; fits data with trained sets; generates predictions from test split\n",
    "model = DecisionTreeClassifier(random_state = 0)\n",
    "model.fit(x_train, y_train)\n",
    "y_prediciton = model.predict(x_test)\n",
    "\n",
    "# generates confusion matrix and plots data\n",
    "matrix = confusion_matrix(y_test, y_prediction)\n",
    "plot_confusion_matrix(model, x_test, y_test)\n",
    "\n",
    "# prints precision, recall, and f1 score\n",
    "print(metrics.classification_report(y_test, y_prediction))"
   ]
  },
  {
   "cell_type": "markdown",
   "metadata": {},
   "source": [
    "### Bias & Variance Characteristics\n",
    "With the results above from the waving and fistbump data sets, there seems to be some underfitting occuring in the model indicated by the low level of precision."
   ]
  },
  {
   "cell_type": "markdown",
   "metadata": {},
   "source": [
    "### Random Forests Model & Results"
   ]
  },
  {
   "cell_type": "code",
   "execution_count": 4,
   "metadata": {
    "scrolled": true
   },
   "outputs": [
    {
     "name": "stdout",
     "output_type": "stream",
     "text": [
      "              precision    recall  f1-score   support\n",
      "\n",
      "         0.0       0.64      0.70      0.67        10\n",
      "         1.0       0.67      0.60      0.63        10\n",
      "\n",
      "    accuracy                           0.65        20\n",
      "   macro avg       0.65      0.65      0.65        20\n",
      "weighted avg       0.65      0.65      0.65        20\n",
      "\n"
     ]
    },
    {
     "data": {
      "image/png": "[encoded data removed]",
      "text/plain": [
       "<Figure size 432x288 with 2 Axes>"
      ]
     },
     "metadata": {
      "needs_background": "light"
     },
     "output_type": "display_data"
    }
   ],
   "source": [
    "# Train test split of 80-20\n",
    "x_train, x_test, y_train, y_test = train_test_split(data, y, test_size = 0.20)\n",
    "\n",
    "# creates random forest classifier; fits data with trained sets; generates predictions from test split\n",
    "model = RandomForestClassifier(random_state = 0)\n",
    "model.fit(x_train, y_train)\n",
    "y_prediciton = model.predict(x_test)\n",
    "\n",
    "# generates confusion matrix and plots data\n",
    "matrix = confusion_matrix(y_test, y_prediction)\n",
    "plot_confusion_matrix(model, x_test, y_test)\n",
    "\n",
    "# prints precision, recall, and f1 score\n",
    "print(metrics.classification_report(y_test, y_prediction))"
   ]
  },
  {
   "cell_type": "markdown",
   "metadata": {},
   "source": [
    "### Bias & Variance Characteristics\n",
    "Given the results above from the waving and fistbump data sets, there doesn't seem to be underfitting or overfitting occuring."
   ]
  }
 ],
 "metadata": {
  "kernelspec": {
   "display_name": "Python 3 (ipykernel)",
   "language": "python",
   "name": "python3"
  },
  "language_info": {
   "codemirror_mode": {
    "name": "ipython",
    "version": 3
   },
   "file_extension": ".py",
   "mimetype": "text/x-python",
   "name": "python",
   "nbconvert_exporter": "python",
   "pygments_lexer": "ipython3",
   "version": "3.9.7"
  }
 },
 "nbformat": 4,
 "nbformat_minor": 2
}
