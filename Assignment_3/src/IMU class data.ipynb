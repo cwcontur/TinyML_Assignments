{
 "cells": [
  {
   "cell_type": "markdown",
   "id": "e79f15b6",
   "metadata": {},
   "source": [
    "### Connor Contursi - Task 3"
   ]
  },
  {
   "cell_type": "markdown",
   "id": "8657645b",
   "metadata": {},
   "source": [
    "# Data Processing"
   ]
  },
  {
   "cell_type": "code",
   "execution_count": 118,
   "id": "5e937108",
   "metadata": {},
   "outputs": [],
   "source": [
    "# module imports\n",
    "import numpy as np\n",
    "import pandas as pd\n",
    "import os\n",
    "\n",
    "# Sklearn module imports\n",
    "from sklearn import metrics\n",
    "from sklearn import preprocessing\n",
    "from sklearn.metrics import confusion_matrix\n",
    "from sklearn.tree import DecisionTreeClassifier\n",
    "from sklearn.metrics import plot_confusion_matrix\n",
    "from sklearn.ensemble import RandomForestClassifier\n",
    "from sklearn.linear_model import LogisticRegression\n",
    "from sklearn.model_selection import train_test_split\n",
    "\n",
    "wave_path = 'C:/Users/indie/Documents/495/IMU class data/wave'\n",
    "fist_path = 'C:/Users/indie/Documents/495/IMU class data/fistbump'\n",
    "#---------------------------------------------------\n",
    "\n",
    "# Combines class data for waves into single set\n",
    "class_wave = pd.DataFrame()\n",
    "wave_files = 0\n",
    "\n",
    "for subdir, dirs, files in os.walk(wave_path):\n",
    "    for file in files:\n",
    "        os.chdir(subdir)\n",
    "        wave_array = np.genfromtxt(file, delimiter=\",\", dtype=str, usecols=range(6),skip_header=1)\n",
    "        wave_array = wave_array.reshape(50, 119*6)\n",
    "        wave_data_array = pd.DataFrame(wave_array)\n",
    "        class_wave = pd.concat([class_wave, wave_data_array])\n",
    "        wave_files += 1\n",
    "#----------------------------------------------------------------------------------                \n",
    "        \n",
    "# Combines class data for fistbumps into single set\n",
    "class_fistbump = pd.DataFrame()\n",
    "fist_files = 0\n",
    "\n",
    "for subdir, dirs, files in os.walk(fist_path):\n",
    "    for file in files:\n",
    "        os.chdir(subdir)\n",
    "        fist_array = np.genfromtxt(file, delimiter=\",\", dtype=str, usecols=range(6),skip_header=1)\n",
    "        fist_array = fist_array.reshape(50, 119*6)\n",
    "        fist_data_array = pd.DataFrame(fist_array)\n",
    "        class_fistbump = pd.concat([class_fistbump, fist_data_array])\n",
    "        fist_files += 1\n",
    "#----------------------------------------------------------------------------------        \n",
    "\n",
    "# Combines all of class data for wave and fistbumps into single set\n",
    "class_data = pd.concat([class_wave, class_fistbump])\n",
    "\n",
    "# Creates y labels\n",
    "y = np.zeros(100 * (wave_files))\n",
    "for a in range (50 * (wave_files), 100 * (wave_files), 1):\n",
    "    y[a] = 1"
   ]
  },
  {
   "cell_type": "markdown",
   "id": "4fa12936",
   "metadata": {},
   "source": [
    "### Logistic Regression Model & Results"
   ]
  },
  {
   "cell_type": "code",
   "execution_count": 122,
   "id": "a74cf9b7",
   "metadata": {},
   "outputs": [
    {
     "name": "stdout",
     "output_type": "stream",
     "text": [
      "              precision    recall  f1-score   support\n",
      "\n",
      "         0.0       0.91      0.85      0.88       226\n",
      "         1.0       0.84      0.90      0.87       194\n",
      "\n",
      "    accuracy                           0.87       420\n",
      "   macro avg       0.87      0.88      0.87       420\n",
      "weighted avg       0.88      0.87      0.87       420\n",
      "\n"
     ]
    },
    {
     "name": "stderr",
     "output_type": "stream",
     "text": [
      "C:\\ProgramData\\Anaconda3\\lib\\site-packages\\sklearn\\linear_model\\_logistic.py:763: ConvergenceWarning: lbfgs failed to converge (status=1):\n",
      "STOP: TOTAL NO. of ITERATIONS REACHED LIMIT.\n",
      "\n",
      "Increase the number of iterations (max_iter) or scale the data as shown in:\n",
      "    https://scikit-learn.org/stable/modules/preprocessing.html\n",
      "Please also refer to the documentation for alternative solver options:\n",
      "    https://scikit-learn.org/stable/modules/linear_model.html#logistic-regression\n",
      "  n_iter_i = _check_optimize_result(\n"
     ]
    },
    {
     "data": {
      "image/png": "[encoded data removed]",
      "text/plain": [
       "<Figure size 432x288 with 2 Axes>"
      ]
     },
     "metadata": {
      "needs_background": "light"
     },
     "output_type": "display_data"
    }
   ],
   "source": [
    "# Train test split of 80-20\n",
    "x_train, x_test, y_train, y_test = train_test_split(class_data, y, test_size = 0.20)\n",
    "\n",
    "# creates logistic regression classifier; fits data with trained sets; generates predictions from test split\n",
    "model = LogisticRegression(max_iter = 10000)\n",
    "model.fit(x_train, y_train)\n",
    "y_prediction = model.predict(x_test)\n",
    "\n",
    "# generates confusion matrix and plots data\n",
    "matrix = confusion_matrix(y_test, y_prediction)\n",
    "plot_confusion_matrix(model, x_test, y_test)\n",
    "\n",
    "# prints precision, recall, and f1 score\n",
    "print(metrics.classification_report(y_test, y_prediction))"
   ]
  },
  {
   "cell_type": "markdown",
   "id": "8bd8961b",
   "metadata": {},
   "source": [
    "### Bias & Variance Characteristics\n",
    "Given the results of the waving and fistbump data sets for the entire class, the model seems to be coming to a state of overfitting given the relatively high precision."
   ]
  },
  {
   "cell_type": "markdown",
   "id": "d63fcd4f",
   "metadata": {},
   "source": [
    "### Decision Trees Model & Results"
   ]
  },
  {
   "cell_type": "code",
   "execution_count": 127,
   "id": "aa0ecb58",
   "metadata": {},
   "outputs": [
    {
     "name": "stdout",
     "output_type": "stream",
     "text": [
      "              precision    recall  f1-score   support\n",
      "\n",
      "         0.0       0.49      0.50      0.50       208\n",
      "         1.0       0.50      0.50      0.50       212\n",
      "\n",
      "    accuracy                           0.50       420\n",
      "   macro avg       0.50      0.50      0.50       420\n",
      "weighted avg       0.50      0.50      0.50       420\n",
      "\n"
     ]
    },
    {
     "data": {
      "image/png": "[encoded data removed]",
      "text/plain": [
       "<Figure size 432x288 with 2 Axes>"
      ]
     },
     "metadata": {
      "needs_background": "light"
     },
     "output_type": "display_data"
    }
   ],
   "source": [
    "# Train test split of 80-20\n",
    "x_train, x_test, y_train, y_test = train_test_split(class_data, y, test_size = 0.20)\n",
    "\n",
    "# creates decision tree classifier; fits data with trained sets; generates predictions from test split\n",
    "model = DecisionTreeClassifier(random_state = 0)\n",
    "model.fit(x_train, y_train)\n",
    "y_prediciton = model.predict(x_test)\n",
    "\n",
    "# generates confusion matrix and plots data\n",
    "matrix = confusion_matrix(y_test, y_prediction)\n",
    "plot_confusion_matrix(model, x_test, y_test)\n",
    "\n",
    "# prints precision, recall, and f1 score\n",
    "print(metrics.classification_report(y_test, y_prediction))"
   ]
  },
  {
   "cell_type": "markdown",
   "id": "7e41a3c7",
   "metadata": {},
   "source": [
    "### Bias & Variance Characteristics\n",
    "Looking at the results above from the waving and fistbump data sets of the entire class, the model seems to be underfitting data. "
   ]
  },
  {
   "cell_type": "markdown",
   "id": "c0281256",
   "metadata": {},
   "source": [
    "### Random Forests Model & Results"
   ]
  },
  {
   "cell_type": "code",
   "execution_count": 128,
   "id": "12f2f99c",
   "metadata": {},
   "outputs": [
    {
     "name": "stdout",
     "output_type": "stream",
     "text": [
      "              precision    recall  f1-score   support\n",
      "\n",
      "         0.0       0.50      0.48      0.49       220\n",
      "         1.0       0.45      0.47      0.46       200\n",
      "\n",
      "    accuracy                           0.47       420\n",
      "   macro avg       0.47      0.47      0.47       420\n",
      "weighted avg       0.47      0.47      0.47       420\n",
      "\n"
     ]
    },
    {
     "data": {
      "image/png": "[encoded data removed]",
      "text/plain": [
       "<Figure size 432x288 with 2 Axes>"
      ]
     },
     "metadata": {
      "needs_background": "light"
     },
     "output_type": "display_data"
    }
   ],
   "source": [
    "# Train test split of 80-20\n",
    "x_train, x_test, y_train, y_test = train_test_split(class_data, y, test_size = 0.20)\n",
    "\n",
    "# creates random forest classifier; fits data with trained sets; generates predictions from test split\n",
    "model = RandomForestClassifier(random_state = 0)\n",
    "model.fit(x_train, y_train)\n",
    "y_prediciton = model.predict(x_test)\n",
    "\n",
    "# generates confusion matrix and plots data\n",
    "matrix = confusion_matrix(y_test, y_prediction)\n",
    "plot_confusion_matrix(model, x_test, y_test)\n",
    "\n",
    "# prints precision, recall, and f1 score\n",
    "print(metrics.classification_report(y_test, y_prediction))"
   ]
  },
  {
   "cell_type": "markdown",
   "id": "69537053",
   "metadata": {},
   "source": [
    "### Bias & Variance Characteristics\n",
    "Given the above results from the waving and fistbump data of the entire class, there seems to be some underfitting occuring since the precision is relatively low."
   ]
  }
 ],
 "metadata": {
  "kernelspec": {
   "display_name": "Python 3 (ipykernel)",
   "language": "python",
   "name": "python3"
  },
  "language_info": {
   "codemirror_mode": {
    "name": "ipython",
    "version": 3
   },
   "file_extension": ".py",
   "mimetype": "text/x-python",
   "name": "python",
   "nbconvert_exporter": "python",
   "pygments_lexer": "ipython3",
   "version": "3.9.7"
  }
 },
 "nbformat": 4,
 "nbformat_minor": 5
}
