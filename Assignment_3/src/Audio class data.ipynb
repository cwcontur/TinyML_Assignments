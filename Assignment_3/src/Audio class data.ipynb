{
 "cells": [
  {
   "cell_type": "markdown",
   "id": "028d1ca7",
   "metadata": {},
   "source": [
    "### Connor Contursi - Task 3"
   ]
  },
  {
   "cell_type": "markdown",
   "id": "4dff9522",
   "metadata": {},
   "source": [
    "# Data Processing"
   ]
  },
  {
   "cell_type": "code",
   "execution_count": 33,
   "id": "086ef88f",
   "metadata": {},
   "outputs": [
    {
     "name": "stdout",
     "output_type": "stream",
     "text": [
      "[0. 0. 0. ... 3. 3. 3.]\n"
     ]
    }
   ],
   "source": [
    "# module imports\n",
    "import numpy as np\n",
    "import pandas as pd\n",
    "import os\n",
    "\n",
    "# Sklearn module imports\n",
    "from sklearn import metrics\n",
    "from sklearn import preprocessing\n",
    "from sklearn.metrics import confusion_matrix\n",
    "from sklearn.tree import DecisionTreeClassifier\n",
    "from sklearn.metrics import plot_confusion_matrix\n",
    "from sklearn.ensemble import RandomForestClassifier\n",
    "from sklearn.linear_model import LogisticRegression\n",
    "from sklearn.model_selection import train_test_split\n",
    "\n",
    "up_path = 'C:/Users/indie/Documents/495/IMU class data/up'\n",
    "down_path = 'C:/Users/indie/Documents/495/IMU class data/down'\n",
    "go_path = 'C:/Users/indie/Documents/495/IMU class data/go'\n",
    "stop_path = 'C:/Users/indie/Documents/495/IMU class data/stop'\n",
    "#---------------------------------------------------\n",
    "\n",
    "# Combines class data for up audio into single set\n",
    "class_up = pd.DataFrame()\n",
    "up_files = 0\n",
    "\n",
    "for subdir, dirs, files in os.walk(up_path):\n",
    "    for file in files:\n",
    "        os.chdir(subdir)\n",
    "        up_array = np.genfromtxt(file, delimiter=\",\", dtype=str, usecols=range(64), skip_header = 1)\n",
    "        up_array = up_array.reshape(25, 64)\n",
    "        up_data_array = pd.DataFrame(up_array)\n",
    "        class_up = pd.concat([class_up, up_data_array])\n",
    "        up_files += 1\n",
    "#----------------------------------------------------------------------------------                \n",
    "        \n",
    "# Combines class data for down audio into single set\n",
    "class_down = pd.DataFrame()\n",
    "down_files = 0\n",
    "\n",
    "for subdir, dirs, files in os.walk(down_path):\n",
    "    for file in files:\n",
    "        os.chdir(subdir)\n",
    "        down_array = np.genfromtxt(file, delimiter=\",\", dtype=str, usecols=range(64),skip_header=1)\n",
    "        down_array = down_array.reshape(25, 64)\n",
    "        down_data_array = pd.DataFrame(down_array)\n",
    "        class_down = pd.concat([class_down, down_data_array])\n",
    "        down_files += 1\n",
    "#----------------------------------------------------------------------------------        \n",
    "\n",
    "# Combines class data for go audio into single set\n",
    "class_go = pd.DataFrame()\n",
    "go_files = 0\n",
    "\n",
    "for subdir, dirs, files in os.walk(go_path):\n",
    "    for file in files:\n",
    "        os.chdir(subdir)\n",
    "        go_array = np.genfromtxt(file, delimiter=\",\", dtype=str, usecols=range(64),skip_header=1)\n",
    "        go_array = go_array.reshape(25, 64)\n",
    "        go_data_array = pd.DataFrame(go_array)\n",
    "        class_go = pd.concat([class_go, go_data_array])\n",
    "        go_files += 1\n",
    "#----------------------------------------------------------------------------------\n",
    "\n",
    "# Combines class data for stop audio into single set\n",
    "class_stop = pd.DataFrame()\n",
    "stop_files = 0\n",
    "\n",
    "for subdir, dirs, files in os.walk(stop_path):\n",
    "    for file in files:\n",
    "        os.chdir(subdir)\n",
    "        stop_array = np.genfromtxt(file, delimiter=\",\", dtype=str, usecols=range(64),skip_header=1)\n",
    "        stop_array = stop_array.reshape(25, 64)\n",
    "        stop_data_array = pd.DataFrame(stop_array)\n",
    "        class_stop = pd.concat([class_stop, stop_data_array])\n",
    "        stop_files += 1\n",
    "#----------------------------------------------------------------------------------\n",
    "\n",
    "# Combines all of class data for wave and fistbumps into single set\n",
    "class_data = pd.concat([class_up, class_down, class_go, class_stop])\n",
    "\n",
    "# Creates y labels\n",
    "y = np.zeros((up_files + down_files + go_files + stop_files) * 25)\n",
    "for a in range (up_files * 25, (up_files + down_files) * 25, 1):\n",
    "    y[a] = 1\n",
    "for b in range ((up_files + down_files) * 25, (up_files + down_files + go_files) * 25, 1):\n",
    "    y[b] = 2\n",
    "for c in range ((up_files + down_files + go_files) * 25, (up_files + down_files + go_files + stop_files) * 25, 1):\n",
    "    y[c] = 3"
   ]
  },
  {
   "cell_type": "markdown",
   "id": "a1acb28b",
   "metadata": {},
   "source": [
    "### Logistic Regression Model & Results"
   ]
  },
  {
   "cell_type": "code",
   "execution_count": 34,
   "id": "9a99059a",
   "metadata": {},
   "outputs": [
    {
     "name": "stdout",
     "output_type": "stream",
     "text": [
      "              precision    recall  f1-score   support\n",
      "\n",
      "         0.0       0.41      0.48      0.44        87\n",
      "         1.0       0.43      0.43      0.43        92\n",
      "         2.0       0.30      0.24      0.26        84\n",
      "         3.0       0.34      0.34      0.34        87\n",
      "\n",
      "    accuracy                           0.38       350\n",
      "   macro avg       0.37      0.38      0.37       350\n",
      "weighted avg       0.37      0.38      0.37       350\n",
      "\n"
     ]
    },
    {
     "data": {
      "image/png": "[encoded data removed]",
      "text/plain": [
       "<Figure size 432x288 with 2 Axes>"
      ]
     },
     "metadata": {
      "needs_background": "light"
     },
     "output_type": "display_data"
    }
   ],
   "source": [
    "# Train test split of 80-20\n",
    "x_train, x_test, y_train, y_test = train_test_split(class_data, y, test_size = 0.20)\n",
    "\n",
    "# creates logistic regression classifier; fits data with trained sets; generates predictions from test split\n",
    "model = LogisticRegression(max_iter = 10000)\n",
    "model.fit(x_train, y_train)\n",
    "y_prediction = model.predict(x_test)\n",
    "\n",
    "# generates confusion matrix and plots data\n",
    "matrix = confusion_matrix(y_test, y_prediction)\n",
    "plot_confusion_matrix(model, x_test, y_test)\n",
    "\n",
    "# prints precision, recall, and f1 score\n",
    "print(metrics.classification_report(y_test, y_prediction))"
   ]
  },
  {
   "cell_type": "markdown",
   "id": "6e45e366",
   "metadata": {},
   "source": [
    "### Decision Trees Model & Results"
   ]
  },
  {
   "cell_type": "code",
   "execution_count": 35,
   "id": "fe299ec4",
   "metadata": {},
   "outputs": [
    {
     "name": "stdout",
     "output_type": "stream",
     "text": [
      "              precision    recall  f1-score   support\n",
      "\n",
      "         0.0       0.25      0.27      0.26        91\n",
      "         1.0       0.26      0.29      0.27        83\n",
      "         2.0       0.30      0.24      0.26        85\n",
      "         3.0       0.26      0.25      0.26        91\n",
      "\n",
      "    accuracy                           0.26       350\n",
      "   macro avg       0.27      0.26      0.26       350\n",
      "weighted avg       0.27      0.26      0.26       350\n",
      "\n"
     ]
    },
    {
     "data": {
      "image/png": "[encoded data removed]",
      "text/plain": [
       "<Figure size 432x288 with 2 Axes>"
      ]
     },
     "metadata": {
      "needs_background": "light"
     },
     "output_type": "display_data"
    }
   ],
   "source": [
    "# Train test split of 80-20\n",
    "x_train, x_test, y_train, y_test = train_test_split(class_data, y, test_size = 0.20)\n",
    "\n",
    "# creates decision tree classifier; fits data with trained sets; generates predictions from test split\n",
    "model = DecisionTreeClassifier(random_state = 0)\n",
    "model.fit(x_train, y_train)\n",
    "y_prediciton = model.predict(x_test)\n",
    "\n",
    "# generates confusion matrix and plots data\n",
    "matrix = confusion_matrix(y_test, y_prediction)\n",
    "plot_confusion_matrix(model, x_test, y_test)\n",
    "\n",
    "# prints precision, recall, and f1 score\n",
    "print(metrics.classification_report(y_test, y_prediction))"
   ]
  },
  {
   "cell_type": "markdown",
   "id": "e69fe447",
   "metadata": {},
   "source": [
    "### Random Forests Model & Results"
   ]
  },
  {
   "cell_type": "code",
   "execution_count": 36,
   "id": "f798f175",
   "metadata": {},
   "outputs": [
    {
     "name": "stdout",
     "output_type": "stream",
     "text": [
      "              precision    recall  f1-score   support\n",
      "\n",
      "         0.0       0.27      0.28      0.28        99\n",
      "         1.0       0.22      0.23      0.22        87\n",
      "         2.0       0.22      0.18      0.20        82\n",
      "         3.0       0.24      0.26      0.25        82\n",
      "\n",
      "    accuracy                           0.24       350\n",
      "   macro avg       0.24      0.24      0.24       350\n",
      "weighted avg       0.24      0.24      0.24       350\n",
      "\n"
     ]
    },
    {
     "data": {
      "image/png": "[encoded data removed]",
      "text/plain": [
       "<Figure size 432x288 with 2 Axes>"
      ]
     },
     "metadata": {
      "needs_background": "light"
     },
     "output_type": "display_data"
    }
   ],
   "source": [
    "# Train test split of 80-20\n",
    "x_train, x_test, y_train, y_test = train_test_split(class_data, y, test_size = 0.20)\n",
    "\n",
    "# creates random forest classifier; fits data with trained sets; generates predictions from test split\n",
    "model = RandomForestClassifier(random_state = 0)\n",
    "model.fit(x_train, y_train)\n",
    "y_prediciton = model.predict(x_test)\n",
    "\n",
    "# generates confusion matrix and plots data\n",
    "matrix = confusion_matrix(y_test, y_prediction)\n",
    "plot_confusion_matrix(model, x_test, y_test)\n",
    "\n",
    "# prints precision, recall, and f1 score\n",
    "print(metrics.classification_report(y_test, y_prediction))"
   ]
  }
 ],
 "metadata": {
  "kernelspec": {
   "display_name": "Python 3 (ipykernel)",
   "language": "python",
   "name": "python3"
  },
  "language_info": {
   "codemirror_mode": {
    "name": "ipython",
    "version": 3
   },
   "file_extension": ".py",
   "mimetype": "text/x-python",
   "name": "python",
   "nbconvert_exporter": "python",
   "pygments_lexer": "ipython3",
   "version": "3.9.7"
  }
 },
 "nbformat": 4,
 "nbformat_minor": 5
}
