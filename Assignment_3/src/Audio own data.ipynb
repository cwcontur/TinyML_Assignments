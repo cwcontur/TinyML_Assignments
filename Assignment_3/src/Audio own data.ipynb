{
 "cells": [
  {
   "cell_type": "markdown",
   "id": "ec00bbed",
   "metadata": {},
   "source": [
    "### Connor Contursi - Task 2"
   ]
  },
  {
   "cell_type": "markdown",
   "id": "521062b6",
   "metadata": {},
   "source": [
    "# Data Processing"
   ]
  },
  {
   "cell_type": "code",
   "execution_count": 1,
   "id": "548f1e65",
   "metadata": {},
   "outputs": [],
   "source": [
    "# module imports\n",
    "import numpy as np\n",
    "import pandas as pd\n",
    "\n",
    "# Sklearn module imports\n",
    "from sklearn import metrics\n",
    "from sklearn.metrics import confusion_matrix\n",
    "from sklearn.tree import DecisionTreeClassifier\n",
    "from sklearn.metrics import plot_confusion_matrix\n",
    "from sklearn.ensemble import RandomForestClassifier\n",
    "from sklearn.linear_model import LogisticRegression\n",
    "from sklearn.model_selection import train_test_split\n",
    "#---------------------------------------------------\n",
    "\n",
    "# Imports up audio data in proper format for sklearn\n",
    "up_array = np.genfromtxt(\"Up.csv\", delimiter = \",\", dtype = str, usecols = range(64), skip_header = 1)\n",
    "up_array = up_array.reshape(25,64)\n",
    "up_data_array = pd.DataFrame(up_array)\n",
    "\n",
    "# Imports down audio data in proper format for sklearn\n",
    "down_array = np.genfromtxt(\"Down.csv\", delimiter = \",\", dtype = str, usecols = range(64), skip_header = 1)\n",
    "down_array = down_array.reshape(25,64)\n",
    "down_data_array = pd.DataFrame(down_array)\n",
    "\n",
    "# Imports stop audio data in proper format for sklearn\n",
    "stop_array = np.genfromtxt(\"Stop.csv\", delimiter = \",\", dtype = str, usecols = range(64), skip_header = 1)\n",
    "stop_array = stop_array.reshape(25,64)\n",
    "stop_data_array = pd.DataFrame(stop_array)\n",
    "\n",
    "# Imports go audio data in proper format for sklearn\n",
    "go_array = np.genfromtxt(\"Go.csv\", delimiter = \",\", dtype = str, usecols = range(64), skip_header = 1)\n",
    "go_array = go_array.reshape(25,64)\n",
    "go_data_array = pd.DataFrame(go_array)\n",
    "\n",
    "# Combines audio data into single set\n",
    "data = pd.concat([up_data_array, down_data_array, stop_data_array, go_data_array])\n",
    "\n",
    "# Creates y labels of 25: 0s, 25: 1s, 25: 2s, and 25: 3s\n",
    "y = np.zeros(100)\n",
    "for a in range (25, 50, 1):\n",
    "    y[a] = 1\n",
    "for b in range (50, 75, 1):\n",
    "    y[b] = 2\n",
    "for c in range (75, 100, 1):\n",
    "    y[c] = 3"
   ]
  },
  {
   "cell_type": "markdown",
   "id": "1c201d38",
   "metadata": {},
   "source": [
    "### Logistic Regression Model & Results"
   ]
  },
  {
   "cell_type": "code",
   "execution_count": 27,
   "id": "b53603a4",
   "metadata": {},
   "outputs": [
    {
     "name": "stdout",
     "output_type": "stream",
     "text": [
      "              precision    recall  f1-score   support\n",
      "\n",
      "         0.0       0.33      0.33      0.33         3\n",
      "         1.0       0.00      0.00      0.00         3\n",
      "         2.0       0.71      0.83      0.77         6\n",
      "         3.0       0.57      0.50      0.53         8\n",
      "\n",
      "    accuracy                           0.50        20\n",
      "   macro avg       0.40      0.42      0.41        20\n",
      "weighted avg       0.49      0.50      0.49        20\n",
      "\n",
      "ACCURACY OF THE MODEL:  0.5\n"
     ]
    },
    {
     "data": {
      "image/png": "[encoded data removed]",
      "text/plain": [
       "<Figure size 432x288 with 2 Axes>"
      ]
     },
     "metadata": {
      "needs_background": "light"
     },
     "output_type": "display_data"
    }
   ],
   "source": [
    "# Train test split of 80-20\n",
    "x_train, x_test, y_train, y_test = train_test_split(data, y, test_size = 0.20)\n",
    "\n",
    "# creates logistic regression classifier; fits data with trained sets; generates predictions from test split\n",
    "model = LogisticRegression(max_iter = 10000)\n",
    "model.fit(x_train, y_train)\n",
    "y_prediction = model.predict(x_test)\n",
    "\n",
    "# generates confusion matrix and plots data\n",
    "matrix = confusion_matrix(y_test, y_prediction)\n",
    "plot_confusion_matrix(model, x_test, y_test)\n",
    "\n",
    "# prints precision, recall, and f1 score\n",
    "print(metrics.classification_report(y_test, y_prediction))"
   ]
  },
  {
   "cell_type": "markdown",
   "id": "ce5fea3e",
   "metadata": {},
   "source": [
    "### Decision Trees Model & Results"
   ]
  },
  {
   "cell_type": "code",
   "execution_count": 32,
   "id": "73ce29eb",
   "metadata": {},
   "outputs": [
    {
     "name": "stdout",
     "output_type": "stream",
     "text": [
      "              precision    recall  f1-score   support\n",
      "\n",
      "         0.0       0.33      0.17      0.22         6\n",
      "         1.0       0.67      0.40      0.50         5\n",
      "         2.0       0.14      0.17      0.15         6\n",
      "         3.0       0.29      0.67      0.40         3\n",
      "\n",
      "    accuracy                           0.30        20\n",
      "   macro avg       0.36      0.35      0.32        20\n",
      "weighted avg       0.35      0.30      0.30        20\n",
      "\n"
     ]
    },
    {
     "data": {
      "image/png": "[encoded data removed]",
      "text/plain": [
       "<Figure size 432x288 with 2 Axes>"
      ]
     },
     "metadata": {
      "needs_background": "light"
     },
     "output_type": "display_data"
    }
   ],
   "source": [
    "# Train test split of 80-20\n",
    "x_train, x_test, y_train, y_test = train_test_split(data, y, test_size = 0.20)\n",
    "\n",
    "# creates decision tree classifier; fits data with trained sets; generates predictions from test split\n",
    "model = DecisionTreeClassifier(random_state = 0)\n",
    "model.fit(x_train, y_train)\n",
    "y_prediciton = model.predict(x_test)\n",
    "\n",
    "# generates confusion matrix and plots data\n",
    "matrix = confusion_matrix(y_test, y_prediction)\n",
    "plot_confusion_matrix(model, x_test, y_test)\n",
    "\n",
    "# prints precision, recall, and f1 score\n",
    "print(metrics.classification_report(y_test, y_prediction))"
   ]
  },
  {
   "cell_type": "markdown",
   "id": "05aa4e4d",
   "metadata": {},
   "source": []
  },
  {
   "cell_type": "markdown",
   "id": "6bd61257",
   "metadata": {},
   "source": [
    "### Random Forests Model & Results"
   ]
  },
  {
   "cell_type": "code",
   "execution_count": 29,
   "id": "cf2c37b3",
   "metadata": {},
   "outputs": [
    {
     "name": "stdout",
     "output_type": "stream",
     "text": [
      "              precision    recall  f1-score   support\n",
      "\n",
      "         0.0       0.00      0.00      0.00         6\n",
      "         1.0       0.33      0.20      0.25         5\n",
      "         2.0       0.14      0.25      0.18         4\n",
      "         3.0       0.14      0.20      0.17         5\n",
      "\n",
      "    accuracy                           0.15        20\n",
      "   macro avg       0.15      0.16      0.15        20\n",
      "weighted avg       0.15      0.15      0.14        20\n",
      "\n",
      "ACCURACY OF THE MODEL:  0.15\n"
     ]
    },
    {
     "data": {
      "image/png": "[encoded data removed]",
      "text/plain": [
       "<Figure size 432x288 with 2 Axes>"
      ]
     },
     "metadata": {
      "needs_background": "light"
     },
     "output_type": "display_data"
    }
   ],
   "source": [
    "# Train test split of 80-20\n",
    "x_train, x_test, y_train, y_test = train_test_split(data, y, test_size = 0.20)\n",
    "\n",
    "# creates random forest classifier; fits data with trained sets; generates predictions from test split\n",
    "model = RandomForestClassifier(random_state = 0)\n",
    "model.fit(x_train, y_train)\n",
    "y_prediciton = model.predict(x_test)\n",
    "\n",
    "# generates confusion matrix and plots data\n",
    "matrix = confusion_matrix(y_test, y_prediction)\n",
    "plot_confusion_matrix(model, x_test, y_test)\n",
    "\n",
    "# prints precision, recall, and f1 score\n",
    "print(metrics.classification_report(y_test, y_prediction))"
   ]
  }
 ],
 "metadata": {
  "kernelspec": {
   "display_name": "Python 3 (ipykernel)",
   "language": "python",
   "name": "python3"
  },
  "language_info": {
   "codemirror_mode": {
    "name": "ipython",
    "version": 3
   },
   "file_extension": ".py",
   "mimetype": "text/x-python",
   "name": "python",
   "nbconvert_exporter": "python",
   "pygments_lexer": "ipython3",
   "version": "3.9.7"
  }
 },
 "nbformat": 4,
 "nbformat_minor": 5
}
